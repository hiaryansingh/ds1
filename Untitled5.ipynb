{
 "cells": [
  {
   "cell_type": "markdown",
   "id": "b8bf2f7a-7349-4f01-8b3f-317700755a95",
   "metadata": {},
   "source": [
    "Q1. Explain with an example each when to use a for loop and a while loop."
   ]
  },
  {
   "cell_type": "code",
   "execution_count": 3,
   "id": "350f5157-08ca-4bfc-bd0e-f252d2a4e32f",
   "metadata": {},
   "outputs": [
    {
     "name": "stdout",
     "output_type": "stream",
     "text": [
      "1\n",
      "2\n",
      "3\n",
      "4\n",
      "0\n",
      "2\n",
      "4\n",
      "6\n",
      "8\n"
     ]
    }
   ],
   "source": [
    "#ANS for loop is used whenn you want input values one by one or iterator over the values\n",
    "l=[1,2,3,4]\n",
    "for i in l:\n",
    "    print(i)\n",
    "\n",
    "# while loop is used when u want to check the condition until it is true when it is false u want to come out of the loop\n",
    "n=0\n",
    "while n<5:\n",
    "    i=n*2\n",
    "    n=n+1\n",
    "    print(i)"
   ]
  },
  {
   "cell_type": "markdown",
   "id": "835d4410-f409-429d-927e-b3e159c10529",
   "metadata": {},
   "source": [
    "Q2. Write a python program to print the sum and product of the first 10 natural numbers using for\n",
    "and while loop."
   ]
  },
  {
   "cell_type": "code",
   "execution_count": 1,
   "id": "4f73b00a-9f8a-4ac1-9d8a-1b81e6bcae4f",
   "metadata": {},
   "outputs": [
    {
     "name": "stdout",
     "output_type": "stream",
     "text": [
      "Using for loop:\n",
      "Sum of first 10 natural numbers is: 55\n",
      "Product of first 10 natural numbers is: 3628800\n"
     ]
    }
   ],
   "source": [
    "sum = 0\n",
    "product = 1\n",
    "\n",
    "for num in range(1, 11):\n",
    "    sum += num\n",
    "    product *= num\n",
    "\n",
    "print(\"Using for loop:\")\n",
    "print(\"Sum of first 10 natural numbers is:\", sum)\n",
    "print(\"Product of first 10 natural numbers is:\", product)\n",
    "\n",
    "        "
   ]
  },
  {
   "cell_type": "markdown",
   "id": "338570de-e6f4-461f-a84b-551b6009420c",
   "metadata": {},
   "source": [
    "Q5. Write a program to filter count vowels in the below-given string.\n",
    "string = \"I want to become a data scientist\""
   ]
  },
  {
   "cell_type": "code",
   "execution_count": 26,
   "id": "1b742c54-e22f-41de-9a0c-b9da424a08e9",
   "metadata": {},
   "outputs": [
    {
     "name": "stdout",
     "output_type": "stream",
     "text": [
      "Number of vowels in the string: 12\n"
     ]
    }
   ],
   "source": [
    "string = \"I want to become a data scientist\"\n",
    "\n",
    "# Define a function to count vowels in a string\n",
    "def count_vowels(string):\n",
    "    count = 0\n",
    "    vowels = \"aeiouAEIOU\"\n",
    "    for char in string:\n",
    "        if char in vowels:\n",
    "            count += 1\n",
    "    return count\n",
    "\n",
    "# Call the function and print the result\n",
    "print(\"Number of vowels in the string:\", count_vowels(string))"
   ]
  },
  {
   "cell_type": "markdown",
   "id": "61da2e1a-df74-47c1-88e3-92ae7b953f2e",
   "metadata": {},
   "source": [
    "Q4. Create a list of numbers from 1 to 100. Use for loop and while loop to calculate the cube of each\n",
    "number and if the cube of that number is divisible by 4 or 5 then append that number in a list and print\n",
    "that list."
   ]
  },
  {
   "cell_type": "code",
   "execution_count": 63,
   "id": "746a6199-7662-431c-a93a-9e5e0b014310",
   "metadata": {},
   "outputs": [
    {
     "name": "stdout",
     "output_type": "stream",
     "text": [
      "Using a for loop:\n",
      "[2, 4, 5, 6, 8, 10, 12, 14, 15, 16, 18, 20, 22, 24, 25, 26, 28, 30, 32, 34, 35, 36, 38, 40, 42, 44, 45, 46, 48, 50, 52, 54, 55, 56, 58, 60, 62, 64, 65, 66, 68, 70, 72, 74, 75, 76, 78, 80, 82, 84, 85, 86, 88, 90, 92, 94, 95, 96, 98, 100]\n"
     ]
    }
   ],
   "source": [
    "numbers = list(range(1, 101))\n",
    "\n",
    "# Create an empty list to store the cubes that are divisible by 4 or 5\n",
    "result = []\n",
    "\n",
    "# Calculate the cubes of each number using a for loop\n",
    "for num in numbers:\n",
    "    cube = num ** 3\n",
    "    if cube % 4 == 0 or cube % 5 == 0:\n",
    "        result.append(num)\n",
    "\n",
    "# Print the result\n",
    "print(\"Using a for loop:\")\n",
    "print(result)\n",
    "    "
   ]
  },
  {
   "cell_type": "markdown",
   "id": "d670ddc9-85ca-43d3-be33-178aae0e3929",
   "metadata": {},
   "source": [
    "Q3. Create a python program to compute the electricity bill for a household.\n",
    "\n",
    "The per-unit charges in rupees are as follows: For the first 100 units, the user will be charged Rs. 4.5 per\n",
    "unit, for the next 100 units, the user will be charged Rs. 6 per unit, and for the next 100 units, the user will\n",
    "be charged Rs. 10 per unit, After 300 units and above the user will be charged Rs. 20 per unit.\n",
    "You are required to take the units of electricity consumed in a month from the user as input."
   ]
  },
  {
   "cell_type": "code",
   "execution_count": 69,
   "id": "38db5438-8716-4c9c-8710-461351f76481",
   "metadata": {},
   "outputs": [
    {
     "name": "stdin",
     "output_type": "stream",
     "text": [
      "enter your unit consumed : 400\n"
     ]
    },
    {
     "name": "stdout",
     "output_type": "stream",
     "text": [
      "8000\n"
     ]
    }
   ],
   "source": [
    "consumed=int(input(\"enter your unit consumed :\"))\n",
    "if consumed<=100:\n",
    "    charge=4.5*consumed\n",
    "    \n",
    "elif consumed>100 and consumed<=200:\n",
    "    charge=6 * consumed\n",
    "    print(charge)\n",
    "\n",
    "elif consumed>200 and consumed<=300:\n",
    "    charge=10 * consumed\n",
    "    print(charge)  \n",
    "    \n",
    "elif consumed>300:\n",
    "    charge=20 * consumed\n",
    "    print(charge)    \n"
   ]
  },
  {
   "cell_type": "code",
   "execution_count": null,
   "id": "3318b494-d4fe-498d-88e2-77be33d2d7d0",
   "metadata": {},
   "outputs": [],
   "source": []
  }
 ],
 "metadata": {
  "kernelspec": {
   "display_name": "Python 3 (ipykernel)",
   "language": "python",
   "name": "python3"
  },
  "language_info": {
   "codemirror_mode": {
    "name": "ipython",
    "version": 3
   },
   "file_extension": ".py",
   "mimetype": "text/x-python",
   "name": "python",
   "nbconvert_exporter": "python",
   "pygments_lexer": "ipython3",
   "version": "3.10.8"
  }
 },
 "nbformat": 4,
 "nbformat_minor": 5
}
